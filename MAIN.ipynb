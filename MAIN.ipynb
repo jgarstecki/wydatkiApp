{
 "cells": [
  {
   "cell_type": "code",
   "execution_count": 220,
   "metadata": {},
   "outputs": [],
   "source": [
    "import pandas as pd\n",
    "import csv\n",
    "import chardet\n",
    "import re\n",
    "import shutil\n",
    "import os\n",
    "import glob\n",
    "import csv\n",
    "from difflib import SequenceMatcher"
   ]
  },
  {
   "cell_type": "markdown",
   "metadata": {},
   "source": [
    "CleanData to initialData"
   ]
  },
  {
   "cell_type": "code",
   "execution_count": null,
   "metadata": {},
   "outputs": [],
   "source": [
    "# Read the CSV file\n",
    "MAIN_DF = pd.read_csv(\"cleanData11-12-01.csv\")\n",
    "df_wydatki = MAIN_DF.copy()\n",
    "\n",
    "# Remove unnecessary columns\n",
    "cols = [\"Data księgowania\", \"Tytuł\", \"Nr rachunku\", \"Nazwa banku\", \"Szczegóły\", \n",
    "        \"Nr transakcji\", \"Waluta\", \"Waluta.1\", \"Kwota płatności w walucie\", \n",
    "        \"Waluta.2\", \"Konto\", \"Saldo po transakcji\", \"Waluta.3\"]\n",
    "\n",
    "# Drop columns safely using list comprehension for existing columns only\n",
    "existing_cols = [col for col in cols if col in df_wydatki.columns]\n",
    "df_wydatki.drop(columns=existing_cols, inplace=True)\n",
    "\n",
    "# Rename column - fixed by assigning the result back to df_wydatki\n",
    "df_wydatki = df_wydatki.rename(columns={'Kwota transakcji (waluta rachunku)': 'Kwota transakcji'})\n",
    "\n",
    "# Remove last 3 rows\n",
    "df_wydatki = df_wydatki.iloc[:-3]\n",
    "\n",
    "# Consolidate transaction amount columns\n",
    "# First ensure the column exists and contains numeric values\n",
    "df_wydatki['Kwota transakcji'] = df_wydatki['Kwota transakcji'].str.replace(',', '.').astype(float)\n",
    "if 'Kwota blokady/zwolnienie blokady' in df_wydatki.columns:\n",
    "    df_wydatki['Kwota blokady/zwolnienie blokady'] = df_wydatki['Kwota blokady/zwolnienie blokady'].str.replace(',', '.').astype(float)\n",
    "    df_wydatki['Kwota transakcji'] = df_wydatki[['Kwota transakcji', 'Kwota blokady/zwolnienie blokady']].sum(axis=1)\n",
    "    df_wydatki.drop(columns=['Kwota blokady/zwolnienie blokady'], inplace=True)\n",
    "\n",
    "# Convert contractor names to uppercase\n",
    "df_wydatki[\"Dane kontrahenta\"] = df_wydatki[\"Dane kontrahenta\"].str.upper()\n",
    "\n",
    "# Sort by contractor name and reset index\n",
    "df_wydatki.sort_values(\"Dane kontrahenta\", inplace=True)\n",
    "df_wydatki.reset_index(drop=True, inplace=True)\n",
    "\n",
    "# Export to CSV\n",
    "df_wydatki.to_csv(\"initialData11-12-01.csv\", sep=',', encoding='utf-8', index=False)\n",
    "\n",
    "# Display the result\n",
    "print(df_wydatki)\n"
   ]
  },
  {
   "cell_type": "code",
   "execution_count": null,
   "metadata": {},
   "outputs": [],
   "source": [
    "initialData to consolidatedData"
   ]
  },
  {
   "cell_type": "code",
   "execution_count": 231,
   "metadata": {},
   "outputs": [
    {
     "name": "stdout",
     "output_type": "stream",
     "text": [
      "[0, 1, 2, 3, 4, 5, 6, 7, 8, 9, 10, 11, 12, 13, 14, 15, 16, 17, 18, 19, 20, 21, 22, 23, 24, 25, 26, 27, 28, 29, 30, 31, 32, 33, 34, 35, 36, 37, 38, 39, 40, 41, 42, 43, 44, 45, 46, 47, 48, 49, 50, 51, 52, 53, 54, 55, 56, 57, 58, 59, 60, 61, 62, 63, 64, 65, 66, 67, 68, 69, 70, 71, 72, 73, 74, 75, 76, 77, 78, 79, 80, 81, 82, 83, 84, 85, 86, 87, 88, 89, 90, 91, 92, 93, 94, 95, 96, 97, 98, 99, 100, 101, 102, 103, 104, 105, 106, 107, 108, 109, 110, 111, 112, 113, 114, 115, 116, 117, 118, 119, 120, 121, 122, 123, 124, 125, 126, 127]\n"
     ]
    }
   ],
   "source": [
    "# Read the CSV file\n",
    "df_wydatki_consolidated = pd.read_csv(\"initialData11-12-01.csv\")\n",
    "\n",
    "# Make sure column names are correct and in the same row\n",
    "# If needed, reset the header row\n",
    "df_wydatki_consolidated.columns = df_wydatki_consolidated.columns.str.strip()\n",
    "\n",
    "# Convert Kwota transakcji to numeric, handling any potential string/formatting issues\n",
    "df_wydatki_consolidated['Kwota transakcji'] = pd.to_numeric(df_wydatki_consolidated['Kwota transakcji'].astype(str).str.replace(',', '.'), errors='coerce')\n",
    "\n",
    "# Group by Dane kontrahenta and sum the values\n",
    "df_wydatki_consolidated = df_wydatki_consolidated.groupby('Dane kontrahenta', as_index=False)['Kwota transakcji'].sum()\n",
    "\n",
    "# Reset index if needed\n",
    "df_wydatki_consolidated = df_wydatki_consolidated.reset_index(drop=True)\n",
    "\n",
    "\n",
    "\n",
    "\n",
    "\n",
    "\n",
    "getRowIndexes = []\n",
    "for row in df_wydatki_consolidated[\"Dane kontrahenta\"].index:\n",
    "    rowIndexes.append(row)"
   ]
  },
  {
   "cell_type": "markdown",
   "metadata": {},
   "source": [
    "\n",
    "def getIndex():\n",
    "    print(df_wydatki_consolidated[\"Dane kontrahenta\"].index)\n",
    "\n",
    "def similar(a, b):\n",
    "    return SequenceMatcher(None, a, b).ratio()\n",
    "\n",
    "for value in df_wydatki_consolidated[\"Dane kontrahenta\"]:\n",
    "    if df_wydatki_consolidated[\"Dane kontrahenta\"].index > 0:\n",
    "        similar(a, b)\n",
    "\n",
    "\n",
    "print(df_wydatki_consolidated[\"Dane kontrahenta\"].index)"
   ]
  }
 ],
 "metadata": {
  "kernelspec": {
   "display_name": "Python 3",
   "language": "python",
   "name": "python3"
  },
  "language_info": {
   "codemirror_mode": {
    "name": "ipython",
    "version": 3
   },
   "file_extension": ".py",
   "mimetype": "text/x-python",
   "name": "python",
   "nbconvert_exporter": "python",
   "pygments_lexer": "ipython3",
   "version": "3.13.2"
  }
 },
 "nbformat": 4,
 "nbformat_minor": 2
}
