{
 "cells": [
  {
   "cell_type": "code",
   "execution_count": 35,
   "metadata": {},
   "outputs": [],
   "source": [
    "import pandas as pd\n",
    "import csv"
   ]
  },
  {
   "cell_type": "code",
   "execution_count": 36,
   "metadata": {},
   "outputs": [],
   "source": [
    "csvPath = \"/Users/janek/Documents/CREATIVE ZONE/wydatkiApp/wydatkiApp/rawData.csv\"\n",
    "MAIN_DF = pd.read_csv(csvPath)\n",
    "df_wydatki = MAIN_DF"
   ]
  },
  {
   "cell_type": "code",
   "execution_count": null,
   "metadata": {},
   "outputs": [],
   "source": [
    "df_wydatki.drop(df_wydatki.index[:18], inplace=True)\n",
    "df_wydatki"
   ]
  },
  {
   "cell_type": "code",
   "execution_count": 53,
   "metadata": {},
   "outputs": [],
   "source": [
    "import csv\n",
    "import re\n",
    "rawDataPath = \"/Users/janek/Documents/CREATIVE ZONE/wydatkiApp/wydatkiApp/rawData.csv\"\n",
    "\n",
    "with open(rawDataPath, 'r') as file:\n",
    "    content = file.read()\n",
    "\n",
    "# Usunięcie wszystkiego, co pasuje do ((?s)^.*?)\n",
    "cleaned_content = re.sub(r'(?s)^.*?Data transakcji', '', content)\n",
    "\n",
    "#Nadaje ściekę dla nowego pliku\n",
    "cleanedDataPath = 'cleanedData.csv'\n",
    "\n",
    "#Otwiera plik cleanedData.csv do zapisu\n",
    "with open(cleanedDataPath, 'w') as file:\n",
    "    writer = csv.writer(file)\n",
    "    # Write data to the CSV file\n",
    "    writer.writerows(cleaned_content)\n",
    "\n",
    "with open(cleanedDataPath, 'r') as file:\n",
    "    content = file.read()\n",
    "   \n"
   ]
  }
 ],
 "metadata": {
  "kernelspec": {
   "display_name": "Python 3",
   "language": "python",
   "name": "python3"
  },
  "language_info": {
   "codemirror_mode": {
    "name": "ipython",
    "version": 3
   },
   "file_extension": ".py",
   "mimetype": "text/x-python",
   "name": "python",
   "nbconvert_exporter": "python",
   "pygments_lexer": "ipython3",
   "version": "3.13.2"
  }
 },
 "nbformat": 4,
 "nbformat_minor": 2
}
